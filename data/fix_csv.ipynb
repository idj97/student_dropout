{
 "cells": [
  {
   "cell_type": "code",
   "execution_count": 2,
   "id": "4d81ed5c-adfb-437e-8a83-c255ab28ba22",
   "metadata": {},
   "outputs": [],
   "source": [
    "import pandas as pd\n",
    "\n",
    "df = pd.read_csv(\"original.csv\", sep=\";\")"
   ]
  },
  {
   "cell_type": "code",
   "execution_count": 3,
   "id": "bacbffb8-4538-469e-9d18-60d34702ef47",
   "metadata": {},
   "outputs": [
    {
     "name": "stdout",
     "output_type": "stream",
     "text": [
      "Marital status\n",
      "Application mode\n",
      "Application order\n",
      "Course\n",
      "Daytime/evening attendance\t\n",
      "Previous qualification\n",
      "Previous qualification (grade)\n",
      "Nacionality\n",
      "Mother's qualification\n",
      "Father's qualification\n",
      "Mother's occupation\n",
      "Father's occupation\n",
      "Admission grade\n",
      "Displaced\n",
      "Educational special needs\n",
      "Debtor\n",
      "Tuition fees up to date\n",
      "Gender\n",
      "Scholarship holder\n",
      "Age at enrollment\n",
      "International\n",
      "Curricular units 1st sem (credited)\n",
      "Curricular units 1st sem (enrolled)\n",
      "Curricular units 1st sem (evaluations)\n",
      "Curricular units 1st sem (approved)\n",
      "Curricular units 1st sem (grade)\n",
      "Curricular units 1st sem (without evaluations)\n",
      "Curricular units 2nd sem (credited)\n",
      "Curricular units 2nd sem (enrolled)\n",
      "Curricular units 2nd sem (evaluations)\n",
      "Curricular units 2nd sem (approved)\n",
      "Curricular units 2nd sem (grade)\n",
      "Curricular units 2nd sem (without evaluations)\n",
      "Unemployment rate\n",
      "Inflation rate\n",
      "GDP\n",
      "Target\n",
      "---\n",
      "marital_status\n",
      "application_mode\n",
      "application_order\n",
      "course\n",
      "daytime_evening_attendance\n",
      "previous_qualification\n",
      "previous_qualification_grade\n",
      "nacionality\n",
      "mother_qualification\n",
      "father_qualification\n",
      "mother_occupation\n",
      "father_occupation\n",
      "admission_grade\n",
      "displaced\n",
      "educational_special_needs\n",
      "debtor\n",
      "tuition_fees_up_to_date\n",
      "gender\n",
      "scholarship_holder\n",
      "age_at_enrollment\n",
      "international\n",
      "1st_sem_credited\n",
      "1st_sem_enrolled\n",
      "1st_sem_evaluations\n",
      "1st_sem_approved\n",
      "1st_sem_grade\n",
      "1st_sem_without_evaluations\n",
      "2nd_sem_credited\n",
      "2nd_sem_enrolled\n",
      "2nd_sem_evaluations\n",
      "2nd_sem_approved\n",
      "2nd_sem_grade\n",
      "2nd_sem_without_evaluations\n",
      "unemployment_rate\n",
      "inflation_rate\n",
      "gdp\n",
      "target\n"
     ]
    }
   ],
   "source": [
    "# column names snake case\n",
    "mapping = {}\n",
    "for c in df.columns:\n",
    "    print(c)\n",
    "    c2 = c.lower()\n",
    "    c2 = c2.replace(\" \", \"_\")\n",
    "    c2 = c2.replace(\"'s\", \"\")\n",
    "    c2 = c2.replace(\"/\", \"_\")\n",
    "    c2 = c2.replace(\"(\", \"\").replace(\")\", \"\")\n",
    "    c2 = c2.replace(\"curricular_units_\", \"\") \n",
    "    c2 = c2.strip()\n",
    "    mapping[c] = c2\n",
    "\n",
    "print(\"---\")\n",
    "df = df.rename(columns=mapping)\n",
    "for c in df.columns:\n",
    "    print(c)"
   ]
  },
  {
   "cell_type": "code",
   "execution_count": 4,
   "id": "fdb08b60",
   "metadata": {},
   "outputs": [],
   "source": [
    "# drop enrolled\n",
    "df = df[df[\"target\"] != \"Enrolled\"]"
   ]
  },
  {
   "cell_type": "code",
   "execution_count": null,
   "id": "974ac3c5",
   "metadata": {},
   "outputs": [],
   "source": [
    "# convert target to numerics\n",
    "def transform_target(t):\n",
    "    if t == \"Dropout\":\n",
    "        return 0\n",
    "    elif t == \"Graduate\":\n",
    "        return 1\n",
    "    else:\n",
    "        raise Exception(\"unexpected target value \" + t)\n",
    "\n",
    "targets = [transform_target(v) for v in df[\"target\"].values]\n",
    "df[\"target\"] = targets"
   ]
  },
  {
   "cell_type": "code",
   "execution_count": 6,
   "id": "c9853df7-761b-4145-a98f-9a70a74653ca",
   "metadata": {},
   "outputs": [],
   "source": [
    "# save\n",
    "df.to_csv(\"data.csv\", index=False)"
   ]
  }
 ],
 "metadata": {
  "kernelspec": {
   "display_name": "Python 3 (ipykernel)",
   "language": "python",
   "name": "python3"
  },
  "language_info": {
   "codemirror_mode": {
    "name": "ipython",
    "version": 3
   },
   "file_extension": ".py",
   "mimetype": "text/x-python",
   "name": "python",
   "nbconvert_exporter": "python",
   "pygments_lexer": "ipython3",
   "version": "3.12.3"
  }
 },
 "nbformat": 4,
 "nbformat_minor": 5
}
