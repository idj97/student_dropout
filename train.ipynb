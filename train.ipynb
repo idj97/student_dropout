{
 "cells": [
  {
   "cell_type": "code",
   "execution_count": 34,
   "metadata": {},
   "outputs": [
    {
     "data": {
      "text/plain": [
       "target\n",
       "0    0.60854\n",
       "1    0.39146\n",
       "Name: proportion, dtype: float64"
      ]
     },
     "execution_count": 34,
     "metadata": {},
     "output_type": "execute_result"
    }
   ],
   "source": [
    "import pandas as pd\n",
    "import numpy as np\n",
    "import matplotlib.pyplot as plt\n",
    "from sklearn.dummy import DummyClassifier\n",
    "from sklearn.metrics import classification_report, precision_score, recall_score, f1_score, fbeta_score\n",
    "from sklearn.model_selection import GridSearchCV, train_test_split, cross_val_predict, LearningCurveDisplay\n",
    "\n",
    "def fbeta_scorer(estimator, X, y):\n",
    "    preds = estimator.predict(X)\n",
    "    return fbeta_score(y, preds, beta=2)\n",
    "\n",
    "from sklearn.model_selection import StratifiedKFold\n",
    "\n",
    "CV = 5\n",
    "# CV = StratifiedKFold(n_splits=5, random_state=42, shuffle=True)\n",
    "\n",
    "N_JOBS = 4\n",
    "SCORER=fbeta_scorer\n",
    "\n",
    "df = pd.read_csv(\"data/data.csv\")\n",
    "df[\"target\"] = 1 - df[\"target\"]\n",
    "df[\"target\"].value_counts(normalize=True)"
   ]
  },
  {
   "cell_type": "code",
   "execution_count": 35,
   "metadata": {},
   "outputs": [
    {
     "name": "stdout",
     "output_type": "stream",
     "text": [
      "2541 1089\n"
     ]
    }
   ],
   "source": [
    "# SPLIT DATA\n",
    "def xy_column_spit(df):\n",
    "    x = df.drop(\"target\", axis=1)\n",
    "    y = df[\"target\"]\n",
    "    assert len(x) == len(df)\n",
    "    assert len(y) == len(df)\n",
    "    return x,y\n",
    "\n",
    "train_size = 0.7\n",
    "test_size = 0.3\n",
    "assert(train_size + test_size == 1)\n",
    "\n",
    "train, test = train_test_split(\n",
    "    df, \n",
    "    test_size=test_size, \n",
    "    train_size=train_size,\n",
    "    random_state=0,\n",
    "    shuffle=True\n",
    ")\n",
    "\n",
    "train_x, train_y = xy_column_spit(train)\n",
    "test_x, test_y = xy_column_spit(test)\n",
    "print(len(train_x), len(test_x))"
   ]
  },
  {
   "cell_type": "code",
   "execution_count": 36,
   "metadata": {},
   "outputs": [
    {
     "name": "stdout",
     "output_type": "stream",
     "text": [
      "baseline\n",
      "              precision    recall  f1-score   support\n",
      "\n",
      "           0       0.62      0.52      0.56       657\n",
      "           1       0.42      0.52      0.46       432\n",
      "\n",
      "    accuracy                           0.52      1089\n",
      "   macro avg       0.52      0.52      0.51      1089\n",
      "weighted avg       0.54      0.52      0.52      1089\n",
      "\n",
      "fbeta 0.51\n"
     ]
    }
   ],
   "source": [
    "# BASELINE MODEL\n",
    "baseline = DummyClassifier(strategy=\"uniform\", random_state=42)\n",
    "baseline = baseline.fit(train_x, train_y)\n",
    "preds = baseline.predict(test_x)\n",
    "print(\"baseline\")\n",
    "print(classification_report(test_y, preds, zero_division=0))\n",
    "print(\"fbeta\", round(fbeta_score(test_y, preds, beta=3),2))"
   ]
  },
  {
   "cell_type": "code",
   "execution_count": 37,
   "metadata": {},
   "outputs": [
    {
     "name": "stdout",
     "output_type": "stream",
     "text": [
      "Param grid\n",
      "clf__random_state [42]\n",
      "clf__penalty [None, 'l1', 'l2']\n",
      "clf__alpha [0.0001, 0.001, 0.01]\n",
      "clf__max_iter [ 1000 10000]\n",
      "clf__class_weight [{0: 0.5, 1: 1}, {0: 1, 1: 2}]\n",
      "selector__k range(2, 36, 2)\n",
      "====\n",
      "Fitting 5 folds for each of 612 candidates, totalling 3060 fits\n",
      "Best params\n",
      "clf__alpha 0.001\n",
      "clf__class_weight {0: 0.5, 1: 1}\n",
      "clf__max_iter 1000\n",
      "clf__penalty l2\n",
      "clf__random_state 42\n",
      "selector__k 32\n",
      "====\n",
      "Best validation score: 0.8853983396561084\n",
      "Number of examples 2541\n",
      "Features ['marital_status' 'application_mode' 'application_order' 'course'\n",
      " 'daytime_evening_attendance' 'previous_qualification'\n",
      " 'previous_qualification_grade' 'nacionality' 'mother_qualification'\n",
      " 'father_qualification' 'mother_occupation' 'father_occupation'\n",
      " 'admission_grade' 'displaced' 'educational_special_needs' 'debtor'\n",
      " 'tuition_fees_up_to_date' 'gender' 'scholarship_holder'\n",
      " 'age_at_enrollment' 'international' '1st_sem_credited' '1st_sem_enrolled'\n",
      " '1st_sem_evaluations' '1st_sem_approved' '1st_sem_grade'\n",
      " '1st_sem_without_evaluations' '2nd_sem_credited' '2nd_sem_enrolled'\n",
      " '2nd_sem_evaluations' '2nd_sem_approved' '2nd_sem_grade'\n",
      " '2nd_sem_without_evaluations' 'unemployment_rate' 'inflation_rate' 'gdp']\n"
     ]
    }
   ],
   "source": [
    "# GRID SEARCH\n",
    "from models import logistic_sgd, knn, svm\n",
    "create_pipeline, param_grid, tune_threshold = logistic_sgd() \n",
    "\n",
    "print(\"Param grid\")\n",
    "for k,v in param_grid.items():\n",
    "    print(k,v)\n",
    "print(\"====\")\n",
    "\n",
    "gs = GridSearchCV(\n",
    "    estimator=create_pipeline(), \n",
    "    param_grid=param_grid, \n",
    "    scoring=SCORER,\n",
    "    cv=CV, \n",
    "    refit=True,\n",
    "    verbose=1,\n",
    "    n_jobs=N_JOBS\n",
    ").fit(train_x,train_y)\n",
    "\n",
    "print(\"Best params\")\n",
    "for p in gs.best_params_: print(p, gs.best_params_[p])\n",
    "print(\"====\")\n",
    "print(\"Best validation score:\", gs.best_score_)\n",
    "print(\"Number of examples\", len(train_x))\n",
    "print(\"Features\", gs.best_estimator_[0].get_feature_names_out())"
   ]
  },
  {
   "cell_type": "code",
   "execution_count": 38,
   "metadata": {},
   "outputs": [
    {
     "data": {
      "text/plain": [
       "<sklearn.model_selection._plot.LearningCurveDisplay at 0x7e1b49486660>"
      ]
     },
     "execution_count": 38,
     "metadata": {},
     "output_type": "execute_result"
    },
    {
     "data": {
      "image/png": "[encoded data removed]",
      "text/plain": [
       "<Figure size 640x480 with 1 Axes>"
      ]
     },
     "metadata": {},
     "output_type": "display_data"
    }
   ],
   "source": [
    "# LEARNING CURVE\n",
    "common_params = {\n",
    "    \"X\": train_x,\n",
    "    \"y\": train_y,\n",
    "    \"train_sizes\": np.linspace(0.05, 1.0, 5),\n",
    "    \"cv\": CV,\n",
    "    \"score_type\": \"both\",\n",
    "    \"n_jobs\": N_JOBS,\n",
    "    \"line_kw\": {\"marker\": \"o\"},\n",
    "    \"std_display_style\": \"fill_between\",\n",
    "    \"score_name\": SCORER,\n",
    "}\n",
    "LearningCurveDisplay.from_estimator(create_pipeline(gs.best_params_), **common_params)"
   ]
  },
  {
   "cell_type": "code",
   "execution_count": 39,
   "metadata": {},
   "outputs": [
    {
     "name": "stdout",
     "output_type": "stream",
     "text": [
      "2541\n",
      "              precision    recall  f1-score   support\n",
      "\n",
      "           0       0.93      0.90      0.91      1552\n",
      "           1       0.85      0.90      0.87       989\n",
      "\n",
      "    accuracy                           0.90      2541\n",
      "   macro avg       0.89      0.90      0.89      2541\n",
      "weighted avg       0.90      0.90      0.90      2541\n",
      "\n",
      "fbeta 0.8854687187687388\n"
     ]
    }
   ],
   "source": [
    "# EVAL\n",
    "preds = cross_val_predict(\n",
    "    create_pipeline(gs.best_params_),\n",
    "    train_x,\n",
    "    train_y,\n",
    "    cv=CV,\n",
    "    n_jobs=N_JOBS\n",
    ")\n",
    "print(len(preds))\n",
    "print(classification_report(train_y, preds))\n",
    "print(\"fbeta\", fbeta_score(train_y, preds, beta=2))"
   ]
  },
  {
   "cell_type": "code",
   "execution_count": 40,
   "metadata": {},
   "outputs": [
    {
     "data": {
      "image/png": "[encoded data removed]",
      "text/plain": [
       "<Figure size 640x480 with 1 Axes>"
      ]
     },
     "metadata": {},
     "output_type": "display_data"
    },
    {
     "name": "stdout",
     "output_type": "stream",
     "text": [
      "    threshold  recall  precision     f1  fbeta\n",
      "23       0.46   0.902      0.831  0.865  0.887\n",
      "25       0.50   0.896      0.846  0.870  0.885\n",
      "24       0.48   0.898      0.838  0.867  0.885\n",
      "22       0.44   0.902      0.823  0.861  0.885\n",
      "21       0.42   0.905      0.813  0.856  0.885\n",
      "19       0.38   0.912      0.791  0.847  0.885\n",
      "18       0.36   0.915      0.779  0.841  0.884\n",
      "20       0.40   0.908      0.800  0.850  0.884\n",
      "17       0.34   0.917      0.769  0.837  0.883\n",
      "26       0.52   0.890      0.854  0.872  0.882\n",
      "16       0.32   0.920      0.754  0.829  0.881\n",
      "27       0.54   0.884      0.870  0.877  0.881\n",
      "15       0.30   0.921      0.745  0.824  0.880\n",
      "12       0.24   0.934      0.706  0.805  0.878\n",
      "14       0.28   0.923      0.730  0.816  0.877\n",
      "28       0.56   0.877      0.875  0.876  0.876\n",
      "11       0.22   0.939      0.691  0.796  0.876\n",
      "13       0.26   0.926      0.718  0.809  0.876\n",
      "10       0.20   0.945      0.674  0.787  0.875\n",
      "29       0.58   0.873      0.884  0.878  0.875\n",
      "9        0.18   0.951      0.647  0.770  0.870\n",
      "30       0.60   0.865      0.886  0.875  0.869\n",
      "31       0.62   0.859      0.892  0.875  0.866\n",
      "8        0.16   0.953      0.623  0.754  0.862\n",
      "32       0.64   0.852      0.902  0.876  0.862\n",
      "33       0.66   0.845      0.913  0.878  0.858\n",
      "7        0.14   0.959      0.597  0.736  0.855\n",
      "34       0.68   0.836      0.922  0.877  0.852\n",
      "35       0.70   0.827      0.934  0.877  0.846\n",
      "6        0.12   0.966      0.564  0.712  0.845\n",
      "36       0.72   0.821      0.942  0.877  0.843\n",
      "37       0.74   0.816      0.951  0.878  0.840\n",
      "5        0.10   0.974      0.529  0.685  0.833\n",
      "38       0.76   0.798      0.956  0.870  0.825\n",
      "39       0.78   0.791      0.963  0.868  0.820\n",
      "4        0.08   0.979      0.494  0.656  0.818\n",
      "40       0.80   0.778      0.965  0.861  0.809\n",
      "3        0.06   0.983      0.464  0.630  0.803\n",
      "41       0.82   0.767      0.968  0.856  0.801\n",
      "42       0.84   0.756      0.973  0.851  0.792\n",
      "2        0.04   0.993      0.428  0.598  0.785\n",
      "43       0.86   0.745      0.975  0.845  0.782\n",
      "44       0.88   0.731      0.977  0.836  0.770\n",
      "1        0.02   0.997      0.403  0.574  0.770\n",
      "0        0.00   1.000      0.389  0.560  0.761\n",
      "45       0.90   0.720      0.979  0.830  0.760\n",
      "46       0.92   0.698      0.980  0.815  0.740\n",
      "47       0.94   0.667      0.982  0.795  0.713\n",
      "48       0.96   0.627      0.984  0.766  0.676\n",
      "49       0.98   0.571      0.986  0.723  0.624\n"
     ]
    }
   ],
   "source": [
    "# THRESHOLD TUNING\n",
    "if tune_threshold:\n",
    "    preds = cross_val_predict(\n",
    "        create_pipeline(gs.best_params_),\n",
    "        train_x,\n",
    "        train_y,\n",
    "        cv=CV,\n",
    "        method=\"predict_proba\",\n",
    "        n_jobs=N_JOBS\n",
    "    )\n",
    "\n",
    "    pr = []\n",
    "    for T in np.arange(0, 1, 0.02):\n",
    "        p = (preds[:,1]>T).astype(\"int\")\n",
    "        precision = precision_score(train_y, p)\n",
    "        recall = recall_score(train_y, p)\n",
    "        f1 = f1_score(train_y, p)\n",
    "        fbeta = fbeta_score(train_y, p, beta=2)\n",
    "        pr.append((T, recall, precision, f1, fbeta))\n",
    "    pr = pd.DataFrame(data=pr, columns=[\"threshold\", \"recall\", \"precision\", \"f1\", \"fbeta\"])\n",
    "    pr = pr.sort_values(by=\"recall\")\n",
    "    plt.plot(pr[\"recall\"], pr[\"precision\"])\n",
    "    plt.show()\n",
    "    pr = pr.sort_values(by=[\"fbeta\", \"recall\"], ascending=False)\n",
    "    print(pr.round(3))\n",
    "else:\n",
    "    print(\"threshold tuning skipped\")"
   ]
  },
  {
   "cell_type": "code",
   "execution_count": 41,
   "metadata": {},
   "outputs": [
    {
     "name": "stdout",
     "output_type": "stream",
     "text": [
      "0.46\n",
      "              precision    recall  f1-score   support\n",
      "\n",
      "           0       0.93      0.88      0.91      1552\n",
      "           1       0.83      0.90      0.87       989\n",
      "\n",
      "    accuracy                           0.89      2541\n",
      "   macro avg       0.88      0.89      0.89      2541\n",
      "weighted avg       0.89      0.89      0.89      2541\n",
      "\n",
      "fbeta 0.8868562338437065\n"
     ]
    }
   ],
   "source": [
    "# OPTIMAL THRESHOLD\n",
    "if tune_threshold:\n",
    "    T = pr.head(1)[\"threshold\"].values[0]\n",
    "    print(T)\n",
    "    preds = cross_val_predict(\n",
    "        create_pipeline(gs.best_params_),\n",
    "        train_x,    \n",
    "        train_y,\n",
    "        cv=CV,\n",
    "        method=\"predict_proba\",\n",
    "        n_jobs=N_JOBS\n",
    "    )\n",
    "    preds = (preds[:,1]>T).astype(\"int\")\n",
    "    print(classification_report(train_y, preds))\n",
    "    print(\"fbeta\", fbeta_score(train_y, preds, beta=2))\n",
    "else:\n",
    "    print(\"threshold tunning skipped\")"
   ]
  },
  {
   "cell_type": "code",
   "execution_count": 42,
   "metadata": {},
   "outputs": [],
   "source": [
    "# BUILD MODEL\n",
    "clf = create_pipeline(gs.best_params_)\n",
    "clf = clf.fit(train_x, train_y)"
   ]
  },
  {
   "cell_type": "code",
   "execution_count": 43,
   "metadata": {},
   "outputs": [],
   "source": [
    "# TEST EVAL\n",
    "# print(pd.DataFrame(test_y).value_counts())\n",
    "\n",
    "# if tune_threshold:\n",
    "#     preds = clf.predict_proba(test_x)\n",
    "#     preds = (preds[:,1]>T).astype(\"int\")\n",
    "# else:\n",
    "#     preds = clf.predict(test_x)\n",
    "# print(classification_report(test_y, preds))\n",
    "# fbeta = fbeta_score(test_y, preds, beta=2)\n",
    "# print(\"fbeta\", fbeta)"
   ]
  }
 ],
 "metadata": {
  "kernelspec": {
   "display_name": "Python 3 (ipykernel)",
   "language": "python",
   "name": "python3"
  },
  "language_info": {
   "codemirror_mode": {
    "name": "ipython",
    "version": 3
   },
   "file_extension": ".py",
   "mimetype": "text/x-python",
   "name": "python",
   "nbconvert_exporter": "python",
   "pygments_lexer": "ipython3",
   "version": "3.12.3"
  }
 },
 "nbformat": 4,
 "nbformat_minor": 4
}
